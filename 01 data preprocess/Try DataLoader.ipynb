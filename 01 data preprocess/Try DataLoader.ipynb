{
 "cells": [
  {
   "cell_type": "markdown",
   "metadata": {},
   "source": [
    "#### DataSet物件"
   ]
  },
  {
   "cell_type": "code",
   "execution_count": null,
   "metadata": {},
   "outputs": [],
   "source": [
    "class StockDataset(Dataset):\n",
    "    def __init__(self, x_text, x_price, y=None, window=5):\n",
    "        self.window  = window\n",
    "        self.x_text  = x_text\n",
    "        self.x_price = x_price\n",
    "        self.y = y\n",
    "        if y is not None:\n",
    "            self.y = torch.LongTensor(y)\n",
    "        if len(x_text) != len(x_price):\n",
    "            raise Exception(\"Sorry, len(x_text) != len(x_price)\")\n",
    "        \n",
    "    def __len__(self):\n",
    "        return len(self.x_text) - self.window\n",
    "    \n",
    "    def __getitem__(self, index):\n",
    "        x_text  = self.x_text[index:index+self.window]\n",
    "        x_price = self.x_price[index:index+self.window]\n",
    "        if self.y is not None:\n",
    "            Y = self.y[index]\n",
    "            return x_text, x_price, Y\n",
    "        else:\n",
    "            return x_text, x_price"
   ]
  },
  {
   "cell_type": "markdown",
   "metadata": {},
   "source": [
    "#### 用DataSet建立DataLoader"
   ]
  },
  {
   "cell_type": "code",
   "execution_count": null,
   "metadata": {},
   "outputs": [],
   "source": [
    "batch_size   = 128\n",
    "train_set    = StockDataset(train_price, train_text, train_label)\n",
    "val_set      = StockDataset(valid_price, valid_text, valid_label)\n",
    "test_set     = StockDataset(test_price, test_text, test_label)\n",
    "train_loader = DataLoader(train_set, batch_size=batch_size, shuffle=True)\n",
    "val_loader   = DataLoader(val_set, batch_size=batch_size, shuffle=False)\n",
    "test_loader  = DataLoader(test_set, batch_size=batch_size, shuffle=True)"
   ]
  },
  {
   "cell_type": "markdown",
   "metadata": {},
   "source": [
    "#### 訓練時如何使用DataLoader"
   ]
  },
  {
   "cell_type": "code",
   "execution_count": null,
   "metadata": {},
   "outputs": [],
   "source": [
    "for i, data in enumerate(train_loader):\n",
    "    \n",
    "        optimizer.zero_grad() # 用 optimizer 將 model 參數的 gradient 歸零\n",
    "        train_pred = model(data[0].cuda()) # 利用 model 得到預測的機率分佈 這邊實際上就是去呼叫 model 的 forward 函數 # data.cuda()將記憶體中的數據放到GPU的顯存上，因為batch = 128，所以有128個預測結果，shape=(128,共有幾類)\n",
    "        batch_loss = loss(train_pred, data[1].cuda()) # 計算 loss （注意 prediction 跟 label 必須同時在 CPU 或是 GPU 上）\n",
    "        batch_loss.backward() # 利用 back propagation 算出每個參數的 gradient\n",
    "        optimizer.step() # 以 optimizer 用 gradient 更新參數值\n",
    "\n",
    "        train_acc += np.sum(np.argmax(train_pred.cpu().data.numpy(), axis=1) == data[1].numpy()) # np.argmax(train_pred.cpu().data.numpy(), axis=1)會選出每次預測中機率最高的，然後跟data[1]對比，看有幾個正確\n",
    "        train_loss += batch_loss.item() #.item()可以取得loss值"
   ]
  }
 ],
 "metadata": {
  "kernelspec": {
   "display_name": "Python 3",
   "language": "python",
   "name": "python3"
  },
  "language_info": {
   "codemirror_mode": {
    "name": "ipython",
    "version": 3
   },
   "file_extension": ".py",
   "mimetype": "text/x-python",
   "name": "python",
   "nbconvert_exporter": "python",
   "pygments_lexer": "ipython3",
   "version": "3.7.4"
  }
 },
 "nbformat": 4,
 "nbformat_minor": 2
}
