{
 "cells": [
  {
   "cell_type": "markdown",
   "metadata": {},
   "source": [
    "### zip, stack 都不是我們要的轉法\n",
    "https://stackoverflow.com/questions/44409084/how-to-zip-two-1d-numpy-array-to-2d-numpy-array"
   ]
  },
  {
   "cell_type": "code",
   "execution_count": 7,
   "metadata": {},
   "outputs": [],
   "source": [
    "import numpy as np\n",
    "\n",
    "a = np.array([1,2,3,4,5])\n",
    "b = np.array([6,7,8,9,10])"
   ]
  },
  {
   "cell_type": "code",
   "execution_count": 8,
   "metadata": {},
   "outputs": [
    {
     "name": "stdout",
     "output_type": "stream",
     "text": [
      "(1, 5, 2)\n"
     ]
    },
    {
     "data": {
      "text/plain": [
       "array([[[ 1,  6],\n",
       "        [ 2,  7],\n",
       "        [ 3,  8],\n",
       "        [ 4,  9],\n",
       "        [ 5, 10]]])"
      ]
     },
     "execution_count": 8,
     "metadata": {},
     "output_type": "execute_result"
    }
   ],
   "source": [
    "c = np.dstack((a,b))\n",
    "print(c.shape)\n",
    "c"
   ]
  },
  {
   "cell_type": "code",
   "execution_count": 9,
   "metadata": {},
   "outputs": [
    {
     "name": "stdout",
     "output_type": "stream",
     "text": [
      "(5, 2)\n"
     ]
    },
    {
     "data": {
      "text/plain": [
       "array([[ 1,  6],\n",
       "       [ 2,  7],\n",
       "       [ 3,  8],\n",
       "       [ 4,  9],\n",
       "       [ 5, 10]])"
      ]
     },
     "execution_count": 9,
     "metadata": {},
     "output_type": "execute_result"
    }
   ],
   "source": [
    "d = np.column_stack((a,b))\n",
    "print(d.shape)\n",
    "d"
   ]
  },
  {
   "cell_type": "markdown",
   "metadata": {},
   "source": [
    "### 其實用 transpose 就可以了\n",
    "https://stackoverflow.com/questions/23943379/swapping-the-dimensions-of-a-numpy-array/23944468#23944468"
   ]
  },
  {
   "cell_type": "code",
   "execution_count": 14,
   "metadata": {},
   "outputs": [
    {
     "data": {
      "text/plain": [
       "(88, 398, 3)"
      ]
     },
     "execution_count": 14,
     "metadata": {},
     "output_type": "execute_result"
    }
   ],
   "source": [
    "exportFolder = \"../00 dataset/\"\n",
    "with open(exportFolder+'train_price.npy', 'rb') as f:\n",
    "    data = np.load(f)\n",
    "data.shape"
   ]
  },
  {
   "cell_type": "code",
   "execution_count": 31,
   "metadata": {},
   "outputs": [
    {
     "data": {
      "text/plain": [
       "(398, 88, 3)"
      ]
     },
     "execution_count": 31,
     "metadata": {},
     "output_type": "execute_result"
    }
   ],
   "source": [
    "# (88, 398, 3) => (398, 88, 3)\n",
    "# axis 0 1 2 => 1 0 2\n",
    "res = np.transpose(data, (1, 0, 2))\n",
    "res.shape"
   ]
  },
  {
   "cell_type": "code",
   "execution_count": 39,
   "metadata": {},
   "outputs": [
    {
     "data": {
      "text/plain": [
       "array([ True,  True,  True])"
      ]
     },
     "execution_count": 39,
     "metadata": {},
     "output_type": "execute_result"
    }
   ],
   "source": [
    "# APPL day 1 (2014-01-02): \n",
    "res[0, 0, :] == [0.064523, 0.067109, 0.057512]"
   ]
  },
  {
   "cell_type": "code",
   "execution_count": 44,
   "metadata": {},
   "outputs": [
    {
     "name": "stdout",
     "output_type": "stream",
     "text": [
      "[0.074229 0.075861 0.050077]\n"
     ]
    },
    {
     "data": {
      "text/plain": [
       "array([False,  True, False])"
      ]
     },
     "execution_count": 44,
     "metadata": {},
     "output_type": "execute_result"
    }
   ],
   "source": [
    "# APPL day 2 (2014-01-03): \n",
    "print(res[1, 0, :])\n",
    "res[1, 0, :] == [0.074229, 0.075861, 0.050077]"
   ]
  },
  {
   "cell_type": "code",
   "execution_count": 45,
   "metadata": {},
   "outputs": [
    {
     "data": {
      "text/plain": [
       "array([ True,  True,  True])"
      ]
     },
     "execution_count": 45,
     "metadata": {},
     "output_type": "execute_result"
    }
   ],
   "source": [
    "# ABB day 1 (2014-01-02): \n",
    "res[0, 1, :] == [0.136685, 0.136685, 0.119746]"
   ]
  },
  {
   "cell_type": "code",
   "execution_count": 47,
   "metadata": {},
   "outputs": [
    {
     "name": "stdout",
     "output_type": "stream",
     "text": [
      "[0.161633 0.166527 0.158964]\n"
     ]
    },
    {
     "data": {
      "text/plain": [
       "array([ True,  True, False])"
      ]
     },
     "execution_count": 47,
     "metadata": {},
     "output_type": "execute_result"
    }
   ],
   "source": [
    "# ABB day 2 (2014-01-03): \n",
    "print(res[1, 1, :])\n",
    "res[1, 1, :] == [0.161633, 0.166527, 0.158964]"
   ]
  },
  {
   "cell_type": "markdown",
   "metadata": {},
   "source": [
    "### 那就開始轉所有data的dimension吧"
   ]
  },
  {
   "cell_type": "code",
   "execution_count": 48,
   "metadata": {},
   "outputs": [],
   "source": [
    "exportFolder = \"../00 dataset/\""
   ]
  },
  {
   "cell_type": "code",
   "execution_count": 49,
   "metadata": {},
   "outputs": [
    {
     "name": "stdout",
     "output_type": "stream",
     "text": [
      "(398, 88, 3)\n",
      "(42, 88, 3)\n",
      "(64, 88, 3)\n"
     ]
    }
   ],
   "source": [
    "price_npy_list = ['train_price.npy','valid_price.npy','test_price.npy']\n",
    "for name in price_npy_list:\n",
    "    with open(exportFolder+name, 'rb') as f:\n",
    "        data = np.load(f)\n",
    "        res = np.transpose(data, (1, 0, 2))\n",
    "        print(res.shape)\n",
    "        \n",
    "    with open(exportFolder+name, 'wb') as f:\n",
    "        np.save(f, res)"
   ]
  },
  {
   "cell_type": "code",
   "execution_count": 51,
   "metadata": {},
   "outputs": [
    {
     "name": "stdout",
     "output_type": "stream",
     "text": [
      "(398, 88)\n",
      "(42, 88)\n",
      "(64, 88)\n"
     ]
    }
   ],
   "source": [
    "label_npy_list = ['train_label.npy','valid_label.npy','test_label.npy']\n",
    "for name in label_npy_list:\n",
    "    with open(exportFolder+name, 'rb') as f:\n",
    "        data = np.load(f)\n",
    "        res = np.transpose(data, (1, 0))\n",
    "        print(res.shape)\n",
    "        \n",
    "#     with open(exportFolder+name, 'wb') as f:\n",
    "#         np.save(f, res)"
   ]
  },
  {
   "cell_type": "code",
   "execution_count": null,
   "metadata": {},
   "outputs": [],
   "source": []
  }
 ],
 "metadata": {
  "kernelspec": {
   "display_name": "Python 3",
   "language": "python",
   "name": "python3"
  },
  "language_info": {
   "codemirror_mode": {
    "name": "ipython",
    "version": 3
   },
   "file_extension": ".py",
   "mimetype": "text/x-python",
   "name": "python",
   "nbconvert_exporter": "python",
   "pygments_lexer": "ipython3",
   "version": "3.7.4"
  }
 },
 "nbformat": 4,
 "nbformat_minor": 2
}
