{
 "cells": [
  {
   "cell_type": "code",
   "execution_count": 1,
   "metadata": {},
   "outputs": [],
   "source": [
    "import pandas as pd\n",
    "import numpy as np\n",
    "abs_path = \"D:\\stocknet-dataset-master\\price\\preprocessed\"\n",
    "df = pd.read_csv(abs_path + '\\AAPL.txt', delimiter = \"\\t\",\n",
    "                names=[\"Date\", \"Open\", \"High\", \"Low\", \"Close\", \"Adj Close\", \"Volume\"])\n",
    "# df.columns = [\"Date\", \"Open\", \"High\", \"Low\", \"Close\", \"Adj Close\", \"Volume\"]"
   ]
  },
  {
   "cell_type": "code",
   "execution_count": 2,
   "metadata": {},
   "outputs": [],
   "source": [
    "df = df.iloc[::-1]\n",
    "df = df.reset_index(drop=True)"
   ]
  },
  {
   "cell_type": "code",
   "execution_count": 3,
   "metadata": {},
   "outputs": [
    {
     "data": {
      "text/html": [
       "<div>\n",
       "<style scoped>\n",
       "    .dataframe tbody tr th:only-of-type {\n",
       "        vertical-align: middle;\n",
       "    }\n",
       "\n",
       "    .dataframe tbody tr th {\n",
       "        vertical-align: top;\n",
       "    }\n",
       "\n",
       "    .dataframe thead th {\n",
       "        text-align: right;\n",
       "    }\n",
       "</style>\n",
       "<table border=\"1\" class=\"dataframe\">\n",
       "  <thead>\n",
       "    <tr style=\"text-align: right;\">\n",
       "      <th></th>\n",
       "      <th>Date</th>\n",
       "      <th>High</th>\n",
       "      <th>Low</th>\n",
       "      <th>Close</th>\n",
       "    </tr>\n",
       "  </thead>\n",
       "  <tbody>\n",
       "    <tr>\n",
       "      <td>0</td>\n",
       "      <td>2012-09-05</td>\n",
       "      <td>0.107768</td>\n",
       "      <td>0.109047</td>\n",
       "      <td>0.097979</td>\n",
       "    </tr>\n",
       "    <tr>\n",
       "      <td>1</td>\n",
       "      <td>2012-09-06</td>\n",
       "      <td>0.111639</td>\n",
       "      <td>0.120094</td>\n",
       "      <td>0.107725</td>\n",
       "    </tr>\n",
       "    <tr>\n",
       "      <td>2</td>\n",
       "      <td>2012-09-07</td>\n",
       "      <td>0.109697</td>\n",
       "      <td>0.116947</td>\n",
       "      <td>0.105966</td>\n",
       "    </tr>\n",
       "    <tr>\n",
       "      <td>3</td>\n",
       "      <td>2012-09-10</td>\n",
       "      <td>0.106800</td>\n",
       "      <td>0.111420</td>\n",
       "      <td>0.076953</td>\n",
       "    </tr>\n",
       "    <tr>\n",
       "      <td>4</td>\n",
       "      <td>2012-09-11</td>\n",
       "      <td>0.110742</td>\n",
       "      <td>0.119075</td>\n",
       "      <td>0.096363</td>\n",
       "    </tr>\n",
       "    <tr>\n",
       "      <td>...</td>\n",
       "      <td>...</td>\n",
       "      <td>...</td>\n",
       "      <td>...</td>\n",
       "      <td>...</td>\n",
       "    </tr>\n",
       "    <tr>\n",
       "      <td>1252</td>\n",
       "      <td>2017-08-28</td>\n",
       "      <td>0.001752</td>\n",
       "      <td>0.013387</td>\n",
       "      <td>0.000438</td>\n",
       "    </tr>\n",
       "    <tr>\n",
       "      <td>1253</td>\n",
       "      <td>2017-08-29</td>\n",
       "      <td>-0.008485</td>\n",
       "      <td>0.010219</td>\n",
       "      <td>-0.009104</td>\n",
       "    </tr>\n",
       "    <tr>\n",
       "      <td>1254</td>\n",
       "      <td>2017-08-30</td>\n",
       "      <td>0.005463</td>\n",
       "      <td>0.006016</td>\n",
       "      <td>-0.001842</td>\n",
       "    </tr>\n",
       "    <tr>\n",
       "      <td>1255</td>\n",
       "      <td>2017-08-31</td>\n",
       "      <td>0.001775</td>\n",
       "      <td>0.007163</td>\n",
       "      <td>0.000796</td>\n",
       "    </tr>\n",
       "    <tr>\n",
       "      <td>1256</td>\n",
       "      <td>2017-09-01</td>\n",
       "      <td>0.004878</td>\n",
       "      <td>0.005732</td>\n",
       "      <td>-0.002256</td>\n",
       "    </tr>\n",
       "  </tbody>\n",
       "</table>\n",
       "<p>1257 rows × 4 columns</p>\n",
       "</div>"
      ],
      "text/plain": [
       "            Date      High       Low     Close\n",
       "0     2012-09-05  0.107768  0.109047  0.097979\n",
       "1     2012-09-06  0.111639  0.120094  0.107725\n",
       "2     2012-09-07  0.109697  0.116947  0.105966\n",
       "3     2012-09-10  0.106800  0.111420  0.076953\n",
       "4     2012-09-11  0.110742  0.119075  0.096363\n",
       "...          ...       ...       ...       ...\n",
       "1252  2017-08-28  0.001752  0.013387  0.000438\n",
       "1253  2017-08-29 -0.008485  0.010219 -0.009104\n",
       "1254  2017-08-30  0.005463  0.006016 -0.001842\n",
       "1255  2017-08-31  0.001775  0.007163  0.000796\n",
       "1256  2017-09-01  0.004878  0.005732 -0.002256\n",
       "\n",
       "[1257 rows x 4 columns]"
      ]
     },
     "execution_count": 3,
     "metadata": {},
     "output_type": "execute_result"
    }
   ],
   "source": [
    "df = df[[\"Date\",\"High\",\"Low\",\"Close\"]]\n",
    "df"
   ]
  },
  {
   "cell_type": "markdown",
   "metadata": {},
   "source": [
    "#### Extract timestamp"
   ]
  },
  {
   "cell_type": "code",
   "execution_count": 4,
   "metadata": {},
   "outputs": [],
   "source": [
    "exportFolder = \"../00 dataset/\""
   ]
  },
  {
   "cell_type": "code",
   "execution_count": 5,
   "metadata": {},
   "outputs": [],
   "source": [
    "df['Date'] = pd.to_datetime(df['Date'])"
   ]
  },
  {
   "cell_type": "code",
   "execution_count": 7,
   "metadata": {},
   "outputs": [],
   "source": [
    "from datetime import datetime\n",
    "\n",
    "def getTarinSet(df):\n",
    "    start = datetime(2014, 1, 1)\n",
    "    end   = datetime(2015, 7, 31)\n",
    "    df = df.loc[(df.Date >= start) & (df.Date <= end)]\n",
    "    return df\n",
    "\n",
    "def getValidSet(df):\n",
    "    start = datetime(2015, 8, 1)\n",
    "    end   = datetime(2015, 9, 30)\n",
    "    df = df.loc[(df.Date >= start) & (df.Date <= end)]\n",
    "    return df\n",
    "\n",
    "def getTestSet(df):\n",
    "    start = datetime(2015, 10, 1)\n",
    "    end   = datetime(2016, 1, 1)\n",
    "    df = df.loc[(df.Date >= start) & (df.Date <= end)]\n",
    "    return df"
   ]
  },
  {
   "cell_type": "code",
   "execution_count": 8,
   "metadata": {},
   "outputs": [],
   "source": [
    "trainDate = getTarinSet(df)[['Date']]\n",
    "validDate = getValidSet(df)[['Date']]\n",
    "testDate  = getTestSet(df)[['Date']]"
   ]
  },
  {
   "cell_type": "code",
   "execution_count": 17,
   "metadata": {},
   "outputs": [
    {
     "name": "stdout",
     "output_type": "stream",
     "text": [
      "398 42 64\n"
     ]
    }
   ],
   "source": [
    "print(len(trainDate), len(validDate), len(testDate))"
   ]
  },
  {
   "cell_type": "code",
   "execution_count": 22,
   "metadata": {},
   "outputs": [],
   "source": [
    "# save as .npy\n",
    "with open(exportFolder+'train_timestamp.npy', 'wb') as f:\n",
    "    np.save(f, trainDate['Date'].to_numpy())\n",
    "with open(exportFolder+'valid_timestamp.npy', 'wb') as f:\n",
    "    np.save(f, validDate['Date'].to_numpy())\n",
    "with open(exportFolder+'test_timestamp.npy', 'wb') as f:\n",
    "    np.save(f, testDate['Date'].to_numpy())"
   ]
  },
  {
   "cell_type": "code",
   "execution_count": 18,
   "metadata": {},
   "outputs": [],
   "source": [
    "# save as csv (with index)\n",
    "trainDate.to_csv(exportFolder+'train_timestamp.csv',  header=True)\n",
    "validDate.to_csv(exportFolder+'valid_timestamp.csv',  header=True)\n",
    "testDate.to_csv(exportFolder+'test_timestamp.csv',  header=True)"
   ]
  },
  {
   "cell_type": "markdown",
   "metadata": {},
   "source": [
    "#### Get all files of a directory"
   ]
  },
  {
   "cell_type": "code",
   "execution_count": 59,
   "metadata": {},
   "outputs": [],
   "source": [
    "from os import walk\n",
    "\n",
    "_, _, filenames = next(walk(abs_path))"
   ]
  },
  {
   "cell_type": "code",
   "execution_count": 60,
   "metadata": {},
   "outputs": [
    {
     "name": "stdout",
     "output_type": "stream",
     "text": [
      "88\n"
     ]
    },
    {
     "data": {
      "text/plain": [
       "['AAPL.txt', 'ABB.txt', 'ABBV.txt', 'AEP.txt', 'AGFS.txt']"
      ]
     },
     "execution_count": 60,
     "metadata": {},
     "output_type": "execute_result"
    }
   ],
   "source": [
    "print(len(filenames))\n",
    "filenames[:5]"
   ]
  },
  {
   "cell_type": "markdown",
   "metadata": {},
   "source": [
    "#### Extract all label"
   ]
  },
  {
   "cell_type": "code",
   "execution_count": 61,
   "metadata": {},
   "outputs": [],
   "source": [
    "exportFolder = \"../00 dataset/\""
   ]
  },
  {
   "cell_type": "code",
   "execution_count": 62,
   "metadata": {},
   "outputs": [],
   "source": [
    "# this function is called only when to fill missing value, complexity O(n^2)\n",
    "def fill(missing_df, dataset=trainDate, value_to_fill=[0]):\n",
    "    for i, row in dataset.iterrows():\n",
    "        # if find missing a date, insert in\n",
    "        hasDate = False\n",
    "        for d in missing_df['Date']:\n",
    "            if d == row['Date']:\n",
    "                hasDate = True\n",
    "        if hasDate is False:\n",
    "            missing_df.loc[-1] = [row['Date']] + value_to_fill # insert all 0\n",
    "            missing_df.index = missing_df.index + 1  # shifting index\n",
    "            missing_df = missing_df.sort_index()\n",
    "\n",
    "    # make its order by date\n",
    "    return missing_df.sort_values('Date')"
   ]
  },
  {
   "cell_type": "code",
   "execution_count": null,
   "metadata": {},
   "outputs": [],
   "source": [
    "# test code\n",
    "# read missing_df\n",
    "# missing_df = pd.read_csv(abs_path + \"\\\\\" + 'AGFS.txt', delimiter = \"\\t\", names=[\"Date\", \"Open\", \"High\", \"Low\", \"Close\", \"Adj Close\", \"Volume\"])\n",
    "# missing_df = missing_df.iloc[::-1]\n",
    "# missing_df = missing_df.reset_index(drop=True)\n",
    "# missing_df = missing_df[[\"Date\",\"Close\"]]\n",
    "\n",
    "# # divide into train, valid, test\n",
    "# missing_df['Date'] = pd.to_datetime(missing_df['Date'])\n",
    "# missing_df = getTarinSet(missing_df)\n",
    "\n",
    "# res = fill(missing_df)\n",
    "# res"
   ]
  },
  {
   "cell_type": "markdown",
   "metadata": {},
   "source": [
    "幾乎所有trainset的len = 398，有173,217,0三支不合群  \n",
    "幾乎所有validset的len = 42，有1支為0  \n",
    "幾乎所有testset的len = 64，有1支為0\n",
    "``` \n",
    "AGFS.txt\n",
    "BABA.txt\n",
    "GMRE.txt\n",
    "```"
   ]
  },
  {
   "cell_type": "code",
   "execution_count": 92,
   "metadata": {},
   "outputs": [
    {
     "name": "stderr",
     "output_type": "stream",
     "text": [
      "C:\\ProgramData\\Anaconda3\\lib\\site-packages\\ipykernel_launcher.py:26: SettingWithCopyWarning: \n",
      "A value is trying to be set on a copy of a slice from a DataFrame.\n",
      "Try using .loc[row_indexer,col_indexer] = value instead\n",
      "\n",
      "See the caveats in the documentation: http://pandas.pydata.org/pandas-docs/stable/user_guide/indexing.html#returning-a-view-versus-a-copy\n",
      "C:\\ProgramData\\Anaconda3\\lib\\site-packages\\ipykernel_launcher.py:27: SettingWithCopyWarning: \n",
      "A value is trying to be set on a copy of a slice from a DataFrame.\n",
      "Try using .loc[row_indexer,col_indexer] = value instead\n",
      "\n",
      "See the caveats in the documentation: http://pandas.pydata.org/pandas-docs/stable/user_guide/indexing.html#returning-a-view-versus-a-copy\n",
      "C:\\ProgramData\\Anaconda3\\lib\\site-packages\\ipykernel_launcher.py:28: SettingWithCopyWarning: \n",
      "A value is trying to be set on a copy of a slice from a DataFrame.\n",
      "Try using .loc[row_indexer,col_indexer] = value instead\n",
      "\n",
      "See the caveats in the documentation: http://pandas.pydata.org/pandas-docs/stable/user_guide/indexing.html#returning-a-view-versus-a-copy\n"
     ]
    }
   ],
   "source": [
    "# label_array = np.array([])\n",
    "train_labels, valid_labels, test_labels = [], [], []\n",
    "\n",
    "for filename in filenames:\n",
    "    # read a single file\n",
    "    df = pd.read_csv(abs_path + \"\\\\\" + filename, delimiter = \"\\t\", names=[\"Date\", \"Open\", \"High\", \"Low\", \"Close\", \"Adj Close\", \"Volume\"])\n",
    "    df = df.iloc[::-1]\n",
    "    df = df.reset_index(drop=True)\n",
    "    df = df[[\"Date\",\"Close\"]]\n",
    "    \n",
    "    # divide into train, valid, test\n",
    "    df['Date'] = pd.to_datetime(df['Date'])\n",
    "    df_train = getTarinSet(df)\n",
    "    df_valid = getValidSet(df)\n",
    "    df_test  = getTestSet(df)\n",
    "    \n",
    "    # insert the missing rows with 0 (for 3 stocks)\n",
    "    if len(df_train) in [173,217,0]:\n",
    "        df_train = fill(df_train, trainDate) # default param value_to_fill is [0]\n",
    "    if len(df_valid) == 0:\n",
    "        df_valid = fill(df_valid, validDate)\n",
    "    if len(df_test) == 0:\n",
    "        df_test = fill(df_test, testDate)\n",
    "    \n",
    "    # init column with derived value np.nan\n",
    "    df_train['Label'] = np.nan\n",
    "    df_valid['Label'] = np.nan\n",
    "    df_test['Label']  = np.nan\n",
    "    \n",
    "    df_train.reset_index(drop=True, inplace=True)\n",
    "    df_valid.reset_index(drop=True, inplace=True)\n",
    "    df_test.reset_index(drop=True, inplace=True)\n",
    "    \n",
    "    # apply label fram index 1 ~ last, if price ↑ then assign 1\n",
    "    for i in range(1, len(df_train)):\n",
    "        df_train.loc[i, 'Label'] = 1 if df_train.loc[i, 'Close'] >= df_train.loc[i-1, 'Close'] else 0\n",
    "    for i in range(1, len(df_valid)):\n",
    "        df_valid.loc[i, 'Label'] = 1 if df_valid.loc[i, 'Close'] >= df_valid.loc[i-1, 'Close'] else 0\n",
    "    for i in range(1, len(df_test)):\n",
    "        df_test.loc[i, 'Label']  = 1 if df_test.loc[i, 'Close']  >= df_test.loc[i-1, 'Close'] else 0\n",
    "        \n",
    "    train_labels.append(df_train['Label'].to_numpy())\n",
    "    valid_labels.append(df_valid['Label'].to_numpy())\n",
    "    test_labels.append(df_test['Label'].to_numpy())\n",
    "\n",
    "train_labels = np.array(train_labels)\n",
    "valid_labels = np.array(valid_labels)\n",
    "test_labels  = np.array(test_labels)"
   ]
  },
  {
   "cell_type": "code",
   "execution_count": 93,
   "metadata": {},
   "outputs": [
    {
     "name": "stdout",
     "output_type": "stream",
     "text": [
      "(88, 398)\n",
      "(88, 42)\n",
      "(88, 64)\n"
     ]
    }
   ],
   "source": [
    "print(train_labels.shape)\n",
    "print(valid_labels.shape)\n",
    "print(test_labels.shape)"
   ]
  },
  {
   "cell_type": "code",
   "execution_count": 94,
   "metadata": {},
   "outputs": [],
   "source": [
    "# save as .npy\n",
    "with open(exportFolder+'train_label.npy', 'wb') as f:\n",
    "    np.save(f, train_labels)\n",
    "with open(exportFolder+'valid_label.npy', 'wb') as f:\n",
    "    np.save(f, valid_labels)\n",
    "with open(exportFolder+'test_label.npy', 'wb') as f:\n",
    "    np.save(f, test_labels)"
   ]
  },
  {
   "cell_type": "markdown",
   "metadata": {},
   "source": [
    "### 以下是測試單一支股票的code\n",
    "現在用不到了 不要執行到唷~"
   ]
  },
  {
   "cell_type": "markdown",
   "metadata": {},
   "source": [
    "#### Extract timestamp"
   ]
  },
  {
   "cell_type": "code",
   "execution_count": 45,
   "metadata": {},
   "outputs": [],
   "source": [
    "timestamp = pd.to_datetime(df['Date'])\n",
    "timestamp.to_csv(exportFolder+'timestamp.csv',  header=True)"
   ]
  },
  {
   "cell_type": "code",
   "execution_count": 46,
   "metadata": {},
   "outputs": [],
   "source": [
    "with open(exportFolder+'timestamp.npy', 'wb') as f:\n",
    "    np.save(f, timestamp.to_numpy())"
   ]
  },
  {
   "cell_type": "code",
   "execution_count": 47,
   "metadata": {},
   "outputs": [],
   "source": [
    "with open(exportFolder+'timestamp.npy', 'rb') as f:\n",
    "    a = np.load(f)"
   ]
  },
  {
   "cell_type": "code",
   "execution_count": 48,
   "metadata": {},
   "outputs": [
    {
     "data": {
      "text/plain": [
       "array(['2012-09-05T00:00:00.000000000', '2012-09-06T00:00:00.000000000',\n",
       "       '2012-09-07T00:00:00.000000000', ...,\n",
       "       '2017-08-30T00:00:00.000000000', '2017-08-31T00:00:00.000000000',\n",
       "       '2017-09-01T00:00:00.000000000'], dtype='datetime64[ns]')"
      ]
     },
     "execution_count": 48,
     "metadata": {},
     "output_type": "execute_result"
    }
   ],
   "source": [
    "a"
   ]
  },
  {
   "cell_type": "markdown",
   "metadata": {},
   "source": [
    "#### Extract label"
   ]
  },
  {
   "cell_type": "code",
   "execution_count": 50,
   "metadata": {},
   "outputs": [
    {
     "data": {
      "text/html": [
       "<div>\n",
       "<style scoped>\n",
       "    .dataframe tbody tr th:only-of-type {\n",
       "        vertical-align: middle;\n",
       "    }\n",
       "\n",
       "    .dataframe tbody tr th {\n",
       "        vertical-align: top;\n",
       "    }\n",
       "\n",
       "    .dataframe thead th {\n",
       "        text-align: right;\n",
       "    }\n",
       "</style>\n",
       "<table border=\"1\" class=\"dataframe\">\n",
       "  <thead>\n",
       "    <tr style=\"text-align: right;\">\n",
       "      <th></th>\n",
       "      <th>Date</th>\n",
       "      <th>High</th>\n",
       "      <th>Low</th>\n",
       "      <th>Close</th>\n",
       "      <th>Label</th>\n",
       "    </tr>\n",
       "  </thead>\n",
       "  <tbody>\n",
       "    <tr>\n",
       "      <td>0</td>\n",
       "      <td>2012-09-05</td>\n",
       "      <td>0.107768</td>\n",
       "      <td>0.109047</td>\n",
       "      <td>0.097979</td>\n",
       "      <td>NaN</td>\n",
       "    </tr>\n",
       "    <tr>\n",
       "      <td>1</td>\n",
       "      <td>2012-09-06</td>\n",
       "      <td>0.111639</td>\n",
       "      <td>0.120094</td>\n",
       "      <td>0.107725</td>\n",
       "      <td>NaN</td>\n",
       "    </tr>\n",
       "  </tbody>\n",
       "</table>\n",
       "</div>"
      ],
      "text/plain": [
       "         Date      High       Low     Close  Label\n",
       "0  2012-09-05  0.107768  0.109047  0.097979    NaN\n",
       "1  2012-09-06  0.111639  0.120094  0.107725    NaN"
      ]
     },
     "execution_count": 50,
     "metadata": {},
     "output_type": "execute_result"
    }
   ],
   "source": [
    "import numpy as np\n",
    "\n",
    "# init column with derived value np.nan\n",
    "df['Label'] = np.nan\n",
    "df.head(2)"
   ]
  },
  {
   "cell_type": "code",
   "execution_count": 51,
   "metadata": {},
   "outputs": [],
   "source": [
    "# apply label fram index 5 ~ last\n",
    "# if price ↑ then assign 1\n",
    "for i in range(1, len(df)):\n",
    "    df.loc[i, 'Label'] = 1 if df.loc[i, 'Close'] >= df.loc[i-1, 'Close'] else 0"
   ]
  },
  {
   "cell_type": "code",
   "execution_count": 52,
   "metadata": {},
   "outputs": [
    {
     "data": {
      "text/html": [
       "<div>\n",
       "<style scoped>\n",
       "    .dataframe tbody tr th:only-of-type {\n",
       "        vertical-align: middle;\n",
       "    }\n",
       "\n",
       "    .dataframe tbody tr th {\n",
       "        vertical-align: top;\n",
       "    }\n",
       "\n",
       "    .dataframe thead th {\n",
       "        text-align: right;\n",
       "    }\n",
       "</style>\n",
       "<table border=\"1\" class=\"dataframe\">\n",
       "  <thead>\n",
       "    <tr style=\"text-align: right;\">\n",
       "      <th></th>\n",
       "      <th>Date</th>\n",
       "      <th>High</th>\n",
       "      <th>Low</th>\n",
       "      <th>Close</th>\n",
       "      <th>Label</th>\n",
       "    </tr>\n",
       "  </thead>\n",
       "  <tbody>\n",
       "    <tr>\n",
       "      <td>0</td>\n",
       "      <td>2012-09-05</td>\n",
       "      <td>0.107768</td>\n",
       "      <td>0.109047</td>\n",
       "      <td>0.097979</td>\n",
       "      <td>NaN</td>\n",
       "    </tr>\n",
       "    <tr>\n",
       "      <td>1</td>\n",
       "      <td>2012-09-06</td>\n",
       "      <td>0.111639</td>\n",
       "      <td>0.120094</td>\n",
       "      <td>0.107725</td>\n",
       "      <td>1.0</td>\n",
       "    </tr>\n",
       "    <tr>\n",
       "      <td>2</td>\n",
       "      <td>2012-09-07</td>\n",
       "      <td>0.109697</td>\n",
       "      <td>0.116947</td>\n",
       "      <td>0.105966</td>\n",
       "      <td>0.0</td>\n",
       "    </tr>\n",
       "    <tr>\n",
       "      <td>3</td>\n",
       "      <td>2012-09-10</td>\n",
       "      <td>0.106800</td>\n",
       "      <td>0.111420</td>\n",
       "      <td>0.076953</td>\n",
       "      <td>0.0</td>\n",
       "    </tr>\n",
       "    <tr>\n",
       "      <td>4</td>\n",
       "      <td>2012-09-11</td>\n",
       "      <td>0.110742</td>\n",
       "      <td>0.119075</td>\n",
       "      <td>0.096363</td>\n",
       "      <td>1.0</td>\n",
       "    </tr>\n",
       "    <tr>\n",
       "      <td>5</td>\n",
       "      <td>2012-09-12</td>\n",
       "      <td>0.117272</td>\n",
       "      <td>0.122382</td>\n",
       "      <td>0.099094</td>\n",
       "      <td>1.0</td>\n",
       "    </tr>\n",
       "    <tr>\n",
       "      <td>6</td>\n",
       "      <td>2012-09-13</td>\n",
       "      <td>0.119309</td>\n",
       "      <td>0.132744</td>\n",
       "      <td>0.115013</td>\n",
       "      <td>1.0</td>\n",
       "    </tr>\n",
       "    <tr>\n",
       "      <td>7</td>\n",
       "      <td>2012-09-14</td>\n",
       "      <td>0.118095</td>\n",
       "      <td>0.129471</td>\n",
       "      <td>0.114741</td>\n",
       "      <td>0.0</td>\n",
       "    </tr>\n",
       "    <tr>\n",
       "      <td>8</td>\n",
       "      <td>2012-09-17</td>\n",
       "      <td>0.119705</td>\n",
       "      <td>0.120425</td>\n",
       "      <td>0.112116</td>\n",
       "      <td>0.0</td>\n",
       "    </tr>\n",
       "    <tr>\n",
       "      <td>9</td>\n",
       "      <td>2012-09-18</td>\n",
       "      <td>0.106942</td>\n",
       "      <td>0.110817</td>\n",
       "      <td>0.101470</td>\n",
       "      <td>0.0</td>\n",
       "    </tr>\n",
       "  </tbody>\n",
       "</table>\n",
       "</div>"
      ],
      "text/plain": [
       "         Date      High       Low     Close  Label\n",
       "0  2012-09-05  0.107768  0.109047  0.097979    NaN\n",
       "1  2012-09-06  0.111639  0.120094  0.107725    1.0\n",
       "2  2012-09-07  0.109697  0.116947  0.105966    0.0\n",
       "3  2012-09-10  0.106800  0.111420  0.076953    0.0\n",
       "4  2012-09-11  0.110742  0.119075  0.096363    1.0\n",
       "5  2012-09-12  0.117272  0.122382  0.099094    1.0\n",
       "6  2012-09-13  0.119309  0.132744  0.115013    1.0\n",
       "7  2012-09-14  0.118095  0.129471  0.114741    0.0\n",
       "8  2012-09-17  0.119705  0.120425  0.112116    0.0\n",
       "9  2012-09-18  0.106942  0.110817  0.101470    0.0"
      ]
     },
     "execution_count": 52,
     "metadata": {},
     "output_type": "execute_result"
    }
   ],
   "source": [
    "df.head(10)"
   ]
  },
  {
   "cell_type": "code",
   "execution_count": 53,
   "metadata": {},
   "outputs": [
    {
     "data": {
      "text/html": [
       "<div>\n",
       "<style scoped>\n",
       "    .dataframe tbody tr th:only-of-type {\n",
       "        vertical-align: middle;\n",
       "    }\n",
       "\n",
       "    .dataframe tbody tr th {\n",
       "        vertical-align: top;\n",
       "    }\n",
       "\n",
       "    .dataframe thead th {\n",
       "        text-align: right;\n",
       "    }\n",
       "</style>\n",
       "<table border=\"1\" class=\"dataframe\">\n",
       "  <thead>\n",
       "    <tr style=\"text-align: right;\">\n",
       "      <th></th>\n",
       "      <th>Date</th>\n",
       "      <th>High</th>\n",
       "      <th>Low</th>\n",
       "      <th>Close</th>\n",
       "      <th>Label</th>\n",
       "    </tr>\n",
       "  </thead>\n",
       "  <tbody>\n",
       "    <tr>\n",
       "      <td>1247</td>\n",
       "      <td>2017-08-21</td>\n",
       "      <td>0.000000</td>\n",
       "      <td>0.002476</td>\n",
       "      <td>-0.015175</td>\n",
       "      <td>0.0</td>\n",
       "    </tr>\n",
       "    <tr>\n",
       "      <td>1248</td>\n",
       "      <td>2017-08-22</td>\n",
       "      <td>0.006488</td>\n",
       "      <td>0.017747</td>\n",
       "      <td>0.005152</td>\n",
       "      <td>1.0</td>\n",
       "    </tr>\n",
       "    <tr>\n",
       "      <td>1249</td>\n",
       "      <td>2017-08-23</td>\n",
       "      <td>-0.004444</td>\n",
       "      <td>0.004318</td>\n",
       "      <td>-0.005633</td>\n",
       "      <td>0.0</td>\n",
       "    </tr>\n",
       "    <tr>\n",
       "      <td>1250</td>\n",
       "      <td>2017-08-24</td>\n",
       "      <td>0.002813</td>\n",
       "      <td>0.004751</td>\n",
       "      <td>-0.008939</td>\n",
       "      <td>0.0</td>\n",
       "    </tr>\n",
       "    <tr>\n",
       "      <td>1251</td>\n",
       "      <td>2017-08-25</td>\n",
       "      <td>0.002386</td>\n",
       "      <td>0.008099</td>\n",
       "      <td>0.000000</td>\n",
       "      <td>1.0</td>\n",
       "    </tr>\n",
       "    <tr>\n",
       "      <td>1252</td>\n",
       "      <td>2017-08-28</td>\n",
       "      <td>0.001752</td>\n",
       "      <td>0.013387</td>\n",
       "      <td>0.000438</td>\n",
       "      <td>1.0</td>\n",
       "    </tr>\n",
       "    <tr>\n",
       "      <td>1253</td>\n",
       "      <td>2017-08-29</td>\n",
       "      <td>-0.008485</td>\n",
       "      <td>0.010219</td>\n",
       "      <td>-0.009104</td>\n",
       "      <td>0.0</td>\n",
       "    </tr>\n",
       "    <tr>\n",
       "      <td>1254</td>\n",
       "      <td>2017-08-30</td>\n",
       "      <td>0.005463</td>\n",
       "      <td>0.006016</td>\n",
       "      <td>-0.001842</td>\n",
       "      <td>1.0</td>\n",
       "    </tr>\n",
       "    <tr>\n",
       "      <td>1255</td>\n",
       "      <td>2017-08-31</td>\n",
       "      <td>0.001775</td>\n",
       "      <td>0.007163</td>\n",
       "      <td>0.000796</td>\n",
       "      <td>1.0</td>\n",
       "    </tr>\n",
       "    <tr>\n",
       "      <td>1256</td>\n",
       "      <td>2017-09-01</td>\n",
       "      <td>0.004878</td>\n",
       "      <td>0.005732</td>\n",
       "      <td>-0.002256</td>\n",
       "      <td>0.0</td>\n",
       "    </tr>\n",
       "  </tbody>\n",
       "</table>\n",
       "</div>"
      ],
      "text/plain": [
       "            Date      High       Low     Close  Label\n",
       "1247  2017-08-21  0.000000  0.002476 -0.015175    0.0\n",
       "1248  2017-08-22  0.006488  0.017747  0.005152    1.0\n",
       "1249  2017-08-23 -0.004444  0.004318 -0.005633    0.0\n",
       "1250  2017-08-24  0.002813  0.004751 -0.008939    0.0\n",
       "1251  2017-08-25  0.002386  0.008099  0.000000    1.0\n",
       "1252  2017-08-28  0.001752  0.013387  0.000438    1.0\n",
       "1253  2017-08-29 -0.008485  0.010219 -0.009104    0.0\n",
       "1254  2017-08-30  0.005463  0.006016 -0.001842    1.0\n",
       "1255  2017-08-31  0.001775  0.007163  0.000796    1.0\n",
       "1256  2017-09-01  0.004878  0.005732 -0.002256    0.0"
      ]
     },
     "execution_count": 53,
     "metadata": {},
     "output_type": "execute_result"
    }
   ],
   "source": [
    "df.tail(10)"
   ]
  },
  {
   "cell_type": "code",
   "execution_count": 54,
   "metadata": {},
   "outputs": [],
   "source": [
    "label = df['Label']\n",
    "label.to_csv(exportFolder+'label.csv',  header=True)"
   ]
  },
  {
   "cell_type": "code",
   "execution_count": 55,
   "metadata": {},
   "outputs": [],
   "source": [
    "with open(exportFolder+'label.npy', 'wb') as f:\n",
    "    np.save(f, label.to_numpy())"
   ]
  },
  {
   "cell_type": "code",
   "execution_count": 56,
   "metadata": {},
   "outputs": [
    {
     "data": {
      "text/plain": [
       "array([nan,  1.,  0., ...,  1.,  1.,  0.])"
      ]
     },
     "execution_count": 56,
     "metadata": {},
     "output_type": "execute_result"
    }
   ],
   "source": [
    "with open(exportFolder+'label.npy', 'rb') as f:\n",
    "    a = np.load(f)\n",
    "a"
   ]
  },
  {
   "cell_type": "markdown",
   "metadata": {},
   "source": [
    "#### Extract price data"
   ]
  },
  {
   "cell_type": "code",
   "execution_count": 58,
   "metadata": {},
   "outputs": [],
   "source": [
    "price = df[[\"High\",\"Low\",\"Close\"]]\n",
    "price.to_csv(exportFolder+'price.csv',  header=True)"
   ]
  },
  {
   "cell_type": "code",
   "execution_count": 59,
   "metadata": {},
   "outputs": [],
   "source": [
    "with open(exportFolder+'price.npy', 'wb') as f:\n",
    "    np.save(f, price.to_numpy())"
   ]
  },
  {
   "cell_type": "code",
   "execution_count": 60,
   "metadata": {},
   "outputs": [
    {
     "data": {
      "text/plain": [
       "array([[ 0.107768,  0.109047,  0.097979],\n",
       "       [ 0.111639,  0.120094,  0.107725],\n",
       "       [ 0.109697,  0.116947,  0.105966],\n",
       "       ...,\n",
       "       [ 0.005463,  0.006016, -0.001842],\n",
       "       [ 0.001775,  0.007163,  0.000796],\n",
       "       [ 0.004878,  0.005732, -0.002256]])"
      ]
     },
     "execution_count": 60,
     "metadata": {},
     "output_type": "execute_result"
    }
   ],
   "source": [
    "with open(exportFolder+'price.npy', 'rb') as f:\n",
    "    a = np.load(f)\n",
    "a"
   ]
  },
  {
   "cell_type": "code",
   "execution_count": null,
   "metadata": {},
   "outputs": [],
   "source": []
  }
 ],
 "metadata": {
  "kernelspec": {
   "display_name": "Python 3",
   "language": "python",
   "name": "python3"
  },
  "language_info": {
   "codemirror_mode": {
    "name": "ipython",
    "version": 3
   },
   "file_extension": ".py",
   "mimetype": "text/x-python",
   "name": "python",
   "nbconvert_exporter": "python",
   "pygments_lexer": "ipython3",
   "version": "3.7.4"
  }
 },
 "nbformat": 4,
 "nbformat_minor": 2
}
